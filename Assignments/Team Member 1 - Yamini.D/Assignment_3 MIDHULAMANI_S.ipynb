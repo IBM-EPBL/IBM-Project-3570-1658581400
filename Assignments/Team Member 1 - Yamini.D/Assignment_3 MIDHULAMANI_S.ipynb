{
 "cells": [
  {
   "cell_type": "code",
   "execution_count": 1,
   "id": "7f41f7ea",
   "metadata": {},
   "outputs": [
    {
     "name": "stdout",
     "output_type": "stream",
     "text": [
      " Volume in drive V is New Volume\n",
      " Volume Serial Number is 4CD9-FF23\n",
      "\n",
      " Directory of V:\\mathi\n",
      "\n",
      "04-10-2022  17:35    <DIR>          .\n",
      "04-10-2022  17:35    <DIR>          ..\n",
      "04-10-2022  17:33    <DIR>          .ipynb_checkpoints\n",
      "04-10-2022  17:30       235,663,188 Flowers-Dataset.zip\n",
      "04-10-2022  17:35               588 Untitled.ipynb\n",
      "               2 File(s)    235,663,776 bytes\n",
      "               3 Dir(s)  44,565,209,088 bytes free\n"
     ]
    }
   ],
   "source": [
    "ls\n"
   ]
  },
  {
   "cell_type": "code",
   "execution_count": 4,
   "id": "b26c36eb",
   "metadata": {},
   "outputs": [
    {
     "name": "stdout",
     "output_type": "stream",
     "text": [
      " Volume in drive V is New Volume\n",
      " Volume Serial Number is 4CD9-FF23\n",
      "\n",
      " Directory of V:\\mathi\n",
      "\n",
      "04-10-2022  17:39    <DIR>          .\n",
      "04-10-2022  17:39    <DIR>          ..\n",
      "04-10-2022  17:33    <DIR>          .ipynb_checkpoints\n",
      "04-10-2022  17:39    <DIR>          flowers\n",
      "04-10-2022  17:30       235,663,188 Flowers-Dataset.zip\n",
      "04-10-2022  17:39             1,608 Untitled.ipynb\n",
      "               2 File(s)    235,664,796 bytes\n",
      "               4 Dir(s)  44,311,166,976 bytes free\n"
     ]
    }
   ],
   "source": [
    "ls"
   ]
  },
  {
   "cell_type": "code",
   "execution_count": 5,
   "id": "20f34fa2",
   "metadata": {},
   "outputs": [
    {
     "name": "stdout",
     "output_type": "stream",
     "text": [
      "V:\\mathi\\flowers\n"
     ]
    }
   ],
   "source": [
    "cd flowers\n"
   ]
  },
  {
   "cell_type": "code",
   "execution_count": 9,
   "id": "3b1a93c6",
   "metadata": {},
   "outputs": [],
   "source": [
    "from tensorflow.keras.preprocessing.image import ImageDataGenerator"
   ]
  },
  {
   "cell_type": "code",
   "execution_count": 10,
   "id": "68e4117a",
   "metadata": {},
   "outputs": [],
   "source": [
    "train_datagen=ImageDataGenerator(rescale=1./255,horizontal_flip=True,vertical_flip=True,zoom_range=0.2)"
   ]
  },
  {
   "cell_type": "code",
   "execution_count": 11,
   "id": "e809fef6",
   "metadata": {},
   "outputs": [],
   "source": [
    "test_datagen=ImageDataGenerator(rescale=1./255)"
   ]
  },
  {
   "cell_type": "code",
   "execution_count": 13,
   "id": "9fd3c00d",
   "metadata": {},
   "outputs": [
    {
     "name": "stdout",
     "output_type": "stream",
     "text": [
      "Found 4317 images belonging to 5 classes.\n"
     ]
    }
   ],
   "source": [
    "x_train=train_datagen.flow_from_directory(r\"V:\\mathi\\flowers\",target_size=(64,64),\n",
    "                                                            class_mode=\"categorical\",batch_size=24)"
   ]
  },
  {
   "cell_type": "code",
   "execution_count": 14,
   "id": "0083c3ec",
   "metadata": {},
   "outputs": [
    {
     "name": "stdout",
     "output_type": "stream",
     "text": [
      "Found 4317 images belonging to 5 classes.\n"
     ]
    }
   ],
   "source": [
    "x_test=test_datagen.flow_from_directory(r\"V:\\mathi\\flowers\",target_size=(64,64),\n",
    "                                                            class_mode=\"categorical\",batch_size=24)"
   ]
  },
  {
   "cell_type": "code",
   "execution_count": 15,
   "id": "e5c54ba0",
   "metadata": {},
   "outputs": [],
   "source": [
    "from tensorflow.keras.models import Sequential"
   ]
  },
  {
   "cell_type": "code",
   "execution_count": 16,
   "id": "b8bf7f3a",
   "metadata": {},
   "outputs": [],
   "source": [
    "from tensorflow.keras.layers import Convolution2D,MaxPooling2D,Flatten,Dense"
   ]
  },
  {
   "cell_type": "code",
   "execution_count": 17,
   "id": "66fefc23",
   "metadata": {},
   "outputs": [],
   "source": [
    "model=Sequential()"
   ]
  },
  {
   "cell_type": "code",
   "execution_count": 19,
   "id": "404b120c",
   "metadata": {},
   "outputs": [],
   "source": [
    "model.add(Convolution2D(32,(3,3),activation=\"relu\",input_shape=(64,64,3)))"
   ]
  },
  {
   "cell_type": "code",
   "execution_count": 20,
   "id": "29ed900e",
   "metadata": {},
   "outputs": [],
   "source": [
    "model.add(MaxPooling2D(pool_size=(2,2)))"
   ]
  },
  {
   "cell_type": "code",
   "execution_count": 21,
   "id": "693156a1",
   "metadata": {},
   "outputs": [],
   "source": [
    "model.add(Flatten())"
   ]
  },
  {
   "cell_type": "code",
   "execution_count": 22,
   "id": "f0c67f80",
   "metadata": {},
   "outputs": [],
   "source": [
    "model.add(Dense(300,activation='relu'))"
   ]
  },
  {
   "cell_type": "code",
   "execution_count": 23,
   "id": "3fd2c7c7",
   "metadata": {},
   "outputs": [],
   "source": [
    "model.add(Dense(300,activation='relu'))"
   ]
  },
  {
   "cell_type": "code",
   "execution_count": 24,
   "id": "766a31a7",
   "metadata": {},
   "outputs": [],
   "source": [
    "model.add(Dense(5,activation=\"softmax\"))"
   ]
  },
  {
   "cell_type": "code",
   "execution_count": 25,
   "id": "94c7fe46",
   "metadata": {},
   "outputs": [],
   "source": [
    "model.compile(loss=\"categorical_crossentropy\",metrics=[\"accuracy\"],optimizer='adam')"
   ]
  },
  {
   "cell_type": "code",
   "execution_count": 26,
   "id": "d691426c",
   "metadata": {},
   "outputs": [
    {
     "data": {
      "text/plain": [
       "180"
      ]
     },
     "execution_count": 26,
     "metadata": {},
     "output_type": "execute_result"
    }
   ],
   "source": [
    "len(x_train)"
   ]
  },
  {
   "cell_type": "code",
   "execution_count": 27,
   "id": "f3872fd9",
   "metadata": {},
   "outputs": [
    {
     "name": "stdout",
     "output_type": "stream",
     "text": [
      "Epoch 1/5\n",
      "180/180 [==============================] - 184s 1s/step - loss: 1.2770 - accuracy: 0.4605 - val_loss: 1.0517 - val_accuracy: 0.5701\n",
      "Epoch 2/5\n",
      "180/180 [==============================] - 152s 846ms/step - loss: 1.0635 - accuracy: 0.5701 - val_loss: 0.9624 - val_accuracy: 0.6085\n",
      "Epoch 3/5\n",
      "180/180 [==============================] - 133s 736ms/step - loss: 0.9731 - accuracy: 0.6196 - val_loss: 0.9193 - val_accuracy: 0.6312\n",
      "Epoch 4/5\n",
      "180/180 [==============================] - 134s 744ms/step - loss: 0.9044 - accuracy: 0.6412 - val_loss: 0.8394 - val_accuracy: 0.6725\n",
      "Epoch 5/5\n",
      "180/180 [==============================] - 135s 749ms/step - loss: 0.8593 - accuracy: 0.6713 - val_loss: 0.8132 - val_accuracy: 0.6873\n"
     ]
    },
    {
     "data": {
      "text/plain": [
       "<keras.callbacks.History at 0x187dd9ca8b0>"
      ]
     },
     "execution_count": 27,
     "metadata": {},
     "output_type": "execute_result"
    }
   ],
   "source": [
    "model.fit(x_train,epochs=5,validation_data=x_test,steps_per_epoch=len(x_train),validation_steps=len(x_test))"
   ]
  },
  {
   "cell_type": "code",
   "execution_count": 28,
   "id": "b92705a8",
   "metadata": {},
   "outputs": [],
   "source": [
    "model.save(\"flower1.h5\")"
   ]
  },
  {
   "cell_type": "code",
   "execution_count": 29,
   "id": "f6a970f7",
   "metadata": {},
   "outputs": [],
   "source": [
    "from tensorflow.keras.models import load_model\n",
    "from tensorflow.keras.preprocessing import image \n",
    "import numpy as np"
   ]
  },
  {
   "cell_type": "code",
   "execution_count": 36,
   "id": "4a9c6296",
   "metadata": {},
   "outputs": [],
   "source": [
    "model=load_model(\"V:/mathi/flowers/flower1.h5\")"
   ]
  },
  {
   "cell_type": "code",
   "execution_count": 37,
   "id": "15ea01c0",
   "metadata": {},
   "outputs": [],
   "source": [
    "img=image.load_img(\"V:/mathi/flowers/rose/11102341464_508d558dfc_n.jpg\",target_size=(64,64))"
   ]
  },
  {
   "cell_type": "code",
   "execution_count": 38,
   "id": "acca6c8e",
   "metadata": {},
   "outputs": [
    {
     "data": {
      "image/png": "[encoded data removed]",
      "text/plain": [
       "<PIL.Image.Image image mode=RGB size=64x64 at 0x187DD7C72B0>"
      ]
     },
     "execution_count": 38,
     "metadata": {},
     "output_type": "execute_result"
    }
   ],
   "source": [
    "img"
   ]
  },
  {
   "cell_type": "code",
   "execution_count": 40,
   "id": "e696b7c7",
   "metadata": {},
   "outputs": [],
   "source": [
    "x=image.img_to_array(img)"
   ]
  },
  {
   "cell_type": "code",
   "execution_count": 41,
   "id": "78388029",
   "metadata": {},
   "outputs": [
    {
     "data": {
      "text/plain": [
       "array([[[211., 252., 186.],\n",
       "        [102., 158.,  97.],\n",
       "        [232., 253., 174.],\n",
       "        ...,\n",
       "        [ 83., 141.,  56.],\n",
       "        [133., 158., 129.],\n",
       "        [129., 184., 101.]],\n",
       "\n",
       "       [[170., 202., 189.],\n",
       "        [124., 169., 102.],\n",
       "        [142., 174.,  98.],\n",
       "        ...,\n",
       "        [ 58., 107.,  26.],\n",
       "        [ 30.,  79.,  50.],\n",
       "        [163., 189., 186.]],\n",
       "\n",
       "       [[197., 208., 204.],\n",
       "        [216., 215., 221.],\n",
       "        [140., 176., 104.],\n",
       "        ...,\n",
       "        [109., 158.,  93.],\n",
       "        [ 72., 117.,  74.],\n",
       "        [144., 163., 169.]],\n",
       "\n",
       "       ...,\n",
       "\n",
       "       [[ 17.,  36.,  32.],\n",
       "        [ 22.,  29.,  21.],\n",
       "        [ 17.,  34.,  18.],\n",
       "        ...,\n",
       "        [232., 222., 212.],\n",
       "        [ 22.,  21.,  17.],\n",
       "        [ 32.,  31.,  45.]],\n",
       "\n",
       "       [[ 12.,  22.,  31.],\n",
       "        [ 55.,  53.,  56.],\n",
       "        [ 32.,  34.,  29.],\n",
       "        ...,\n",
       "        [189., 180., 185.],\n",
       "        [ 69.,  64.,  70.],\n",
       "        [  1.,   0.,  25.]],\n",
       "\n",
       "       [[  6.,  12.,  36.],\n",
       "        [  7.,   4.,  25.],\n",
       "        [ 11.,   6.,  26.],\n",
       "        ...,\n",
       "        [ 99.,  92., 108.],\n",
       "        [ 81.,  76.,  83.],\n",
       "        [223., 208., 211.]]], dtype=float32)"
      ]
     },
     "execution_count": 41,
     "metadata": {},
     "output_type": "execute_result"
    }
   ],
   "source": [
    "x"
   ]
  },
  {
   "cell_type": "code",
   "execution_count": 42,
   "id": "1008b2a7",
   "metadata": {},
   "outputs": [
    {
     "data": {
      "text/plain": [
       "3"
      ]
     },
     "execution_count": 42,
     "metadata": {},
     "output_type": "execute_result"
    }
   ],
   "source": [
    "x.ndim"
   ]
  },
  {
   "cell_type": "code",
   "execution_count": 43,
   "id": "10bfd0c1",
   "metadata": {},
   "outputs": [],
   "source": [
    "x=np.expand_dims(x,axis=0)"
   ]
  },
  {
   "cell_type": "code",
   "execution_count": 44,
   "id": "699ebbed",
   "metadata": {},
   "outputs": [
    {
     "data": {
      "text/plain": [
       "4"
      ]
     },
     "execution_count": 44,
     "metadata": {},
     "output_type": "execute_result"
    }
   ],
   "source": [
    "x.ndim"
   ]
  },
  {
   "cell_type": "code",
   "execution_count": 45,
   "id": "b62a5a49",
   "metadata": {},
   "outputs": [],
   "source": [
    "pred=model.predict(x)"
   ]
  },
  {
   "cell_type": "code",
   "execution_count": 46,
   "id": "7614fab2",
   "metadata": {},
   "outputs": [
    {
     "data": {
      "text/plain": [
       "array([[0., 0., 0., 1., 0.]], dtype=float32)"
      ]
     },
     "execution_count": 46,
     "metadata": {},
     "output_type": "execute_result"
    }
   ],
   "source": [
    "pred"
   ]
  },
  {
   "cell_type": "code",
   "execution_count": 47,
   "id": "95733385",
   "metadata": {},
   "outputs": [],
   "source": [
    "labels=[\"daisy\",\"dandelion\",\"rose\",\"sunflower\",\"tulip\"]"
   ]
  },
  {
   "cell_type": "code",
   "execution_count": 48,
   "id": "8fb9fa1c",
   "metadata": {},
   "outputs": [
    {
     "data": {
      "text/plain": [
       "3"
      ]
     },
     "execution_count": 48,
     "metadata": {},
     "output_type": "execute_result"
    }
   ],
   "source": [
    "np.argmax(pred)"
   ]
  },
  {
   "cell_type": "code",
   "execution_count": 49,
   "id": "69e25dd3",
   "metadata": {},
   "outputs": [
    {
     "data": {
      "text/plain": [
       "'tulip'"
      ]
     },
     "execution_count": 49,
     "metadata": {},
     "output_type": "execute_result"
    }
   ],
   "source": [
    "labels[4]"
   ]
  },
  {
   "cell_type": "code",
   "execution_count": 50,
   "id": "61eda660",
   "metadata": {},
   "outputs": [
    {
     "data": {
      "text/plain": [
       "'sunflower'"
      ]
     },
     "execution_count": 50,
     "metadata": {},
     "output_type": "execute_result"
    }
   ],
   "source": [
    "labels[np.argmax(pred)]"
   ]
  }
 ],
 "metadata": {
  "kernelspec": {
   "display_name": "Python 3 (ipykernel)",
   "language": "python",
   "name": "python3"
  },
  "language_info": {
   "codemirror_mode": {
    "name": "ipython",
    "version": 3
   },
   "file_extension": ".py",
   "mimetype": "text/x-python",
   "name": "python",
   "nbconvert_exporter": "python",
   "pygments_lexer": "ipython3",
   "version": "3.9.7"
  }
 },
 "nbformat": 4,
 "nbformat_minor": 5
}
